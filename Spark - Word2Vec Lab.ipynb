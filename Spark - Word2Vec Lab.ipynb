{
    "cells": [
        {
            "cell_type": "code", 
            "source": "import numpy as np\nimport pandas as pd\nimport time\nimport math\nimport re\n\nfrom pyspark import SparkContext\nfrom pyspark import Row\nfrom pyspark.sql import SQLContext\nfrom pyspark.ml.feature import Word2Vec\nfrom pyspark.ml.clustering import KMeans\nfrom pyspark.mllib.linalg import Vectors\nfrom pyspark.ml.feature import PCA\n\nimport matplotlib.pyplot as plt\n%matplotlib inline\nfrom mpl_toolkits.mplot3d import Axes3D", 
            "metadata": {
                "collapsed": true
            }, 
            "outputs": [], 
            "execution_count": 1
        }, 
        {
            "cell_type": "markdown", 
            "source": "# ACTION REQUIRED to get your credentials:\n1. Click on the empty cell below \n2. Then look for the data icon on the top right (drawing with zeros and ones) and click on it\n3. You should see the tweets.gz file, then click on \"insert to code and choose the Spark SQLContext option from the drop down options\"\n\n > **You should see a SparkSQL context code block inserted in the cell above with your credentials**\n\n4. Replace the path name to path_1 (if it is not already)\n4. Run the below cell ", 
            "metadata": {}
        }, 
        {
            "cell_type": "code", 
            "source": "# The code was removed by DSX for sharing.", 
            "metadata": {
                "collapsed": true
            }, 
            "outputs": [], 
            "execution_count": null
        }, 
        {
            "cell_type": "markdown", 
            "source": "# Run the next cell to set up a connection to your object storage\n\nFrom the File IO mentu on the right, upload and import the tweets.gz dataset using the DSX UI.  Import the dataset to the blank cell below as a SQLContext setup.  ", 
            "metadata": {}
        }, 
        {
            "cell_type": "markdown", 
            "source": "# Read the tweets as a Spark dataframe and count\n\nType the following to load the dataframe and time the operation.\n\nt0 = time.time()\n \ntweets = sqlContext.read.json(path_1)\n \ntweets.registerTempTable(\"tweets\")\n \ntwr = tweets.count()\n\nprint \"Number of tweets read: \", twr \n \nprint \"Elapsed time (seconds): \", time.time() - t0", 
            "metadata": {}
        }, 
        {
            "cell_type": "code", 
            "source": "t0 = time.time()\n#datapath = 'swift://'+credentials_1['container']+'.keystone/tweets.gz'\ntweets = sqlContext.read.json(path_1)\ntweets.registerTempTable(\"tweets\")\ntwr = tweets.count()\nprint \"Number of tweets read: \", twr \nprint \"Elapsed time (seconds): \", time.time() - t0", 
            "metadata": {}, 
            "outputs": [
                {
                    "output_type": "stream", 
                    "text": "Number of tweets read:  239082\nElapsed time (seconds):  63.0230169296\n", 
                    "name": "stdout"
                }
            ], 
            "execution_count": 3
        }, 
        {
            "cell_type": "markdown", 
            "source": "## Investigate Twitter Data Schema", 
            "metadata": {}
        }, 
        {
            "cell_type": "code", 
            "source": "tweets.printSchema()", 
            "metadata": {}, 
            "outputs": [
                {
                    "output_type": "stream", 
                    "text": "root\n |-- contributors: string (nullable = true)\n |-- coordinates: struct (nullable = true)\n |    |-- coordinates: array (nullable = true)\n |    |    |-- element: double (containsNull = true)\n |    |-- type: string (nullable = true)\n |-- created_at: string (nullable = true)\n |-- entities: struct (nullable = true)\n |    |-- hashtags: array (nullable = true)\n |    |    |-- element: struct (containsNull = true)\n |    |    |    |-- indices: array (nullable = true)\n |    |    |    |    |-- element: long (containsNull = true)\n |    |    |    |-- text: string (nullable = true)\n |    |-- media: array (nullable = true)\n |    |    |-- element: struct (containsNull = true)\n |    |    |    |-- display_url: string (nullable = true)\n |    |    |    |-- expanded_url: string (nullable = true)\n |    |    |    |-- id: long (nullable = true)\n |    |    |    |-- id_str: string (nullable = true)\n |    |    |    |-- indices: array (nullable = true)\n |    |    |    |    |-- element: long (containsNull = true)\n |    |    |    |-- media_url: string (nullable = true)\n |    |    |    |-- media_url_https: string (nullable = true)\n |    |    |    |-- sizes: struct (nullable = true)\n |    |    |    |    |-- large: struct (nullable = true)\n |    |    |    |    |    |-- h: long (nullable = true)\n |    |    |    |    |    |-- resize: string (nullable = true)\n |    |    |    |    |    |-- w: long (nullable = true)\n |    |    |    |    |-- medium: struct (nullable = true)\n |    |    |    |    |    |-- h: long (nullable = true)\n |    |    |    |    |    |-- resize: string (nullable = true)\n |    |    |    |    |    |-- w: long (nullable = true)\n |    |    |    |    |-- small: struct (nullable = true)\n |    |    |    |    |    |-- h: long (nullable = true)\n |    |    |    |    |    |-- resize: string (nullable = true)\n |    |    |    |    |    |-- w: long (nullable = true)\n |    |    |    |    |-- thumb: struct (nullable = true)\n |    |    |    |    |    |-- h: long (nullable = true)\n |    |    |    |    |    |-- resize: string (nullable = true)\n |    |    |    |    |    |-- w: long (nullable = true)\n |    |    |    |-- source_status_id: long (nullable = true)\n |    |    |    |-- source_status_id_str: string (nullable = true)\n |    |    |    |-- type: string (nullable = true)\n |    |    |    |-- url: string (nullable = true)\n |    |-- symbols: array (nullable = true)\n |    |    |-- element: struct (containsNull = true)\n |    |    |    |-- indices: array (nullable = true)\n |    |    |    |    |-- element: long (containsNull = true)\n |    |    |    |-- text: string (nullable = true)\n |    |-- trends: array (nullable = true)\n |    |    |-- element: string (containsNull = true)\n |    |-- urls: array (nullable = true)\n |    |    |-- element: struct (containsNull = true)\n |    |    |    |-- display_url: string (nullable = true)\n |    |    |    |-- expanded_url: string (nullable = true)\n |    |    |    |-- indices: array (nullable = true)\n |    |    |    |    |-- element: long (containsNull = true)\n |    |    |    |-- url: string (nullable = true)\n |    |-- user_mentions: array (nullable = true)\n |    |    |-- element: struct (containsNull = true)\n |    |    |    |-- id: long (nullable = true)\n |    |    |    |-- id_str: string (nullable = true)\n |    |    |    |-- indices: array (nullable = true)\n |    |    |    |    |-- element: long (containsNull = true)\n |    |    |    |-- name: string (nullable = true)\n |    |    |    |-- screen_name: string (nullable = true)\n |-- extended_entities: struct (nullable = true)\n |    |-- media: array (nullable = true)\n |    |    |-- element: struct (containsNull = true)\n |    |    |    |-- display_url: string (nullable = true)\n |    |    |    |-- expanded_url: string (nullable = true)\n |    |    |    |-- id: long (nullable = true)\n |    |    |    |-- id_str: string (nullable = true)\n |    |    |    |-- indices: array (nullable = true)\n |    |    |    |    |-- element: long (containsNull = true)\n |    |    |    |-- media_url: string (nullable = true)\n |    |    |    |-- media_url_https: string (nullable = true)\n |    |    |    |-- sizes: struct (nullable = true)\n |    |    |    |    |-- large: struct (nullable = true)\n |    |    |    |    |    |-- h: long (nullable = true)\n |    |    |    |    |    |-- resize: string (nullable = true)\n |    |    |    |    |    |-- w: long (nullable = true)\n |    |    |    |    |-- medium: struct (nullable = true)\n |    |    |    |    |    |-- h: long (nullable = true)\n |    |    |    |    |    |-- resize: string (nullable = true)\n |    |    |    |    |    |-- w: long (nullable = true)\n |    |    |    |    |-- small: struct (nullable = true)\n |    |    |    |    |    |-- h: long (nullable = true)\n |    |    |    |    |    |-- resize: string (nullable = true)\n |    |    |    |    |    |-- w: long (nullable = true)\n |    |    |    |    |-- thumb: struct (nullable = true)\n |    |    |    |    |    |-- h: long (nullable = true)\n |    |    |    |    |    |-- resize: string (nullable = true)\n |    |    |    |    |    |-- w: long (nullable = true)\n |    |    |    |-- source_status_id: long (nullable = true)\n |    |    |    |-- source_status_id_str: string (nullable = true)\n |    |    |    |-- type: string (nullable = true)\n |    |    |    |-- url: string (nullable = true)\n |-- favorite_count: long (nullable = true)\n |-- favorited: boolean (nullable = true)\n |-- filter_level: string (nullable = true)\n |-- geo: struct (nullable = true)\n |    |-- coordinates: array (nullable = true)\n |    |    |-- element: double (containsNull = true)\n |    |-- type: string (nullable = true)\n |-- id: long (nullable = true)\n |-- id_str: string (nullable = true)\n |-- in_reply_to_screen_name: string (nullable = true)\n |-- in_reply_to_status_id: long (nullable = true)\n |-- in_reply_to_status_id_str: string (nullable = true)\n |-- in_reply_to_user_id: long (nullable = true)\n |-- in_reply_to_user_id_str: string (nullable = true)\n |-- lang: string (nullable = true)\n |-- place: struct (nullable = true)\n |    |-- bounding_box: struct (nullable = true)\n |    |    |-- coordinates: array (nullable = true)\n |    |    |    |-- element: array (containsNull = true)\n |    |    |    |    |-- element: array (containsNull = true)\n |    |    |    |    |    |-- element: double (containsNull = true)\n |    |    |-- type: string (nullable = true)\n |    |-- country: string (nullable = true)\n |    |-- country_code: string (nullable = true)\n |    |-- full_name: string (nullable = true)\n |    |-- id: string (nullable = true)\n |    |-- name: string (nullable = true)\n |    |-- place_type: string (nullable = true)\n |    |-- url: string (nullable = true)\n |-- possibly_sensitive: boolean (nullable = true)\n |-- retweet_count: long (nullable = true)\n |-- retweeted: boolean (nullable = true)\n |-- retweeted_status: struct (nullable = true)\n |    |-- contributors: string (nullable = true)\n |    |-- coordinates: struct (nullable = true)\n |    |    |-- coordinates: array (nullable = true)\n |    |    |    |-- element: double (containsNull = true)\n |    |    |-- type: string (nullable = true)\n |    |-- created_at: string (nullable = true)\n |    |-- entities: struct (nullable = true)\n |    |    |-- hashtags: array (nullable = true)\n |    |    |    |-- element: struct (containsNull = true)\n |    |    |    |    |-- indices: array (nullable = true)\n |    |    |    |    |    |-- element: long (containsNull = true)\n |    |    |    |    |-- text: string (nullable = true)\n |    |    |-- media: array (nullable = true)\n |    |    |    |-- element: struct (containsNull = true)\n |    |    |    |    |-- display_url: string (nullable = true)\n |    |    |    |    |-- expanded_url: string (nullable = true)\n |    |    |    |    |-- id: long (nullable = true)\n |    |    |    |    |-- id_str: string (nullable = true)\n |    |    |    |    |-- indices: array (nullable = true)\n |    |    |    |    |    |-- element: long (containsNull = true)\n |    |    |    |    |-- media_url: string (nullable = true)\n |    |    |    |    |-- media_url_https: string (nullable = true)\n |    |    |    |    |-- sizes: struct (nullable = true)\n |    |    |    |    |    |-- large: struct (nullable = true)\n |    |    |    |    |    |    |-- h: long (nullable = true)\n |    |    |    |    |    |    |-- resize: string (nullable = true)\n |    |    |    |    |    |    |-- w: long (nullable = true)\n |    |    |    |    |    |-- medium: struct (nullable = true)\n |    |    |    |    |    |    |-- h: long (nullable = true)\n |    |    |    |    |    |    |-- resize: string (nullable = true)\n |    |    |    |    |    |    |-- w: long (nullable = true)\n |    |    |    |    |    |-- small: struct (nullable = true)\n |    |    |    |    |    |    |-- h: long (nullable = true)\n |    |    |    |    |    |    |-- resize: string (nullable = true)\n |    |    |    |    |    |    |-- w: long (nullable = true)\n |    |    |    |    |    |-- thumb: struct (nullable = true)\n |    |    |    |    |    |    |-- h: long (nullable = true)\n |    |    |    |    |    |    |-- resize: string (nullable = true)\n |    |    |    |    |    |    |-- w: long (nullable = true)\n |    |    |    |    |-- source_status_id: long (nullable = true)\n |    |    |    |    |-- source_status_id_str: string (nullable = true)\n |    |    |    |    |-- type: string (nullable = true)\n |    |    |    |    |-- url: string (nullable = true)\n |    |    |-- symbols: array (nullable = true)\n |    |    |    |-- element: struct (containsNull = true)\n |    |    |    |    |-- indices: array (nullable = true)\n |    |    |    |    |    |-- element: long (containsNull = true)\n |    |    |    |    |-- text: string (nullable = true)\n |    |    |-- trends: array (nullable = true)\n |    |    |    |-- element: string (containsNull = true)\n |    |    |-- urls: array (nullable = true)\n |    |    |    |-- element: struct (containsNull = true)\n |    |    |    |    |-- display_url: string (nullable = true)\n |    |    |    |    |-- expanded_url: string (nullable = true)\n |    |    |    |    |-- indices: array (nullable = true)\n |    |    |    |    |    |-- element: long (containsNull = true)\n |    |    |    |    |-- url: string (nullable = true)\n |    |    |-- user_mentions: array (nullable = true)\n |    |    |    |-- element: struct (containsNull = true)\n |    |    |    |    |-- id: long (nullable = true)\n |    |    |    |    |-- id_str: string (nullable = true)\n |    |    |    |    |-- indices: array (nullable = true)\n |    |    |    |    |    |-- element: long (containsNull = true)\n |    |    |    |    |-- name: string (nullable = true)\n |    |    |    |    |-- screen_name: string (nullable = true)\n |    |-- extended_entities: struct (nullable = true)\n |    |    |-- media: array (nullable = true)\n |    |    |    |-- element: struct (containsNull = true)\n |    |    |    |    |-- display_url: string (nullable = true)\n |    |    |    |    |-- expanded_url: string (nullable = true)\n |    |    |    |    |-- id: long (nullable = true)\n |    |    |    |    |-- id_str: string (nullable = true)\n |    |    |    |    |-- indices: array (nullable = true)\n |    |    |    |    |    |-- element: long (containsNull = true)\n |    |    |    |    |-- media_url: string (nullable = true)\n |    |    |    |    |-- media_url_https: string (nullable = true)\n |    |    |    |    |-- sizes: struct (nullable = true)\n |    |    |    |    |    |-- large: struct (nullable = true)\n |    |    |    |    |    |    |-- h: long (nullable = true)\n |    |    |    |    |    |    |-- resize: string (nullable = true)\n |    |    |    |    |    |    |-- w: long (nullable = true)\n |    |    |    |    |    |-- medium: struct (nullable = true)\n |    |    |    |    |    |    |-- h: long (nullable = true)\n |    |    |    |    |    |    |-- resize: string (nullable = true)\n |    |    |    |    |    |    |-- w: long (nullable = true)\n |    |    |    |    |    |-- small: struct (nullable = true)\n |    |    |    |    |    |    |-- h: long (nullable = true)\n |    |    |    |    |    |    |-- resize: string (nullable = true)\n |    |    |    |    |    |    |-- w: long (nullable = true)\n |    |    |    |    |    |-- thumb: struct (nullable = true)\n |    |    |    |    |    |    |-- h: long (nullable = true)\n |    |    |    |    |    |    |-- resize: string (nullable = true)\n |    |    |    |    |    |    |-- w: long (nullable = true)\n |    |    |    |    |-- source_status_id: long (nullable = true)\n |    |    |    |    |-- source_status_id_str: string (nullable = true)\n |    |    |    |    |-- type: string (nullable = true)\n |    |    |    |    |-- url: string (nullable = true)\n |    |-- favorite_count: long (nullable = true)\n |    |-- favorited: boolean (nullable = true)\n |    |-- filter_level: string (nullable = true)\n |    |-- geo: struct (nullable = true)\n |    |    |-- coordinates: array (nullable = true)\n |    |    |    |-- element: double (containsNull = true)\n |    |    |-- type: string (nullable = true)\n |    |-- id: long (nullable = true)\n |    |-- id_str: string (nullable = true)\n |    |-- in_reply_to_screen_name: string (nullable = true)\n |    |-- in_reply_to_status_id: long (nullable = true)\n |    |-- in_reply_to_status_id_str: string (nullable = true)\n |    |-- in_reply_to_user_id: long (nullable = true)\n |    |-- in_reply_to_user_id_str: string (nullable = true)\n |    |-- lang: string (nullable = true)\n |    |-- place: struct (nullable = true)\n |    |    |-- bounding_box: struct (nullable = true)\n |    |    |    |-- coordinates: array (nullable = true)\n |    |    |    |    |-- element: array (containsNull = true)\n |    |    |    |    |    |-- element: array (containsNull = true)\n |    |    |    |    |    |    |-- element: double (containsNull = true)\n |    |    |    |-- type: string (nullable = true)\n |    |    |-- country: string (nullable = true)\n |    |    |-- country_code: string (nullable = true)\n |    |    |-- full_name: string (nullable = true)\n |    |    |-- id: string (nullable = true)\n |    |    |-- name: string (nullable = true)\n |    |    |-- place_type: string (nullable = true)\n |    |    |-- url: string (nullable = true)\n |    |-- possibly_sensitive: boolean (nullable = true)\n |    |-- retweet_count: long (nullable = true)\n |    |-- retweeted: boolean (nullable = true)\n |    |-- scopes: struct (nullable = true)\n |    |    |-- followers: boolean (nullable = true)\n |    |    |-- place_ids: array (nullable = true)\n |    |    |    |-- element: string (containsNull = true)\n |    |-- source: string (nullable = true)\n |    |-- text: string (nullable = true)\n |    |-- truncated: boolean (nullable = true)\n |    |-- user: struct (nullable = true)\n |    |    |-- contributors_enabled: boolean (nullable = true)\n |    |    |-- created_at: string (nullable = true)\n |    |    |-- default_profile: boolean (nullable = true)\n |    |    |-- default_profile_image: boolean (nullable = true)\n |    |    |-- description: string (nullable = true)\n |    |    |-- favourites_count: long (nullable = true)\n |    |    |-- follow_request_sent: string (nullable = true)\n |    |    |-- followers_count: long (nullable = true)\n |    |    |-- following: string (nullable = true)\n |    |    |-- friends_count: long (nullable = true)\n |    |    |-- geo_enabled: boolean (nullable = true)\n |    |    |-- id: long (nullable = true)\n |    |    |-- id_str: string (nullable = true)\n |    |    |-- is_translator: boolean (nullable = true)\n |    |    |-- lang: string (nullable = true)\n |    |    |-- listed_count: long (nullable = true)\n |    |    |-- location: string (nullable = true)\n |    |    |-- name: string (nullable = true)\n |    |    |-- notifications: string (nullable = true)\n |    |    |-- profile_background_color: string (nullable = true)\n |    |    |-- profile_background_image_url: string (nullable = true)\n |    |    |-- profile_background_image_url_https: string (nullable = true)\n |    |    |-- profile_background_tile: boolean (nullable = true)\n |    |    |-- profile_banner_url: string (nullable = true)\n |    |    |-- profile_image_url: string (nullable = true)\n |    |    |-- profile_image_url_https: string (nullable = true)\n |    |    |-- profile_link_color: string (nullable = true)\n |    |    |-- profile_sidebar_border_color: string (nullable = true)\n |    |    |-- profile_sidebar_fill_color: string (nullable = true)\n |    |    |-- profile_text_color: string (nullable = true)\n |    |    |-- profile_use_background_image: boolean (nullable = true)\n |    |    |-- protected: boolean (nullable = true)\n |    |    |-- screen_name: string (nullable = true)\n |    |    |-- statuses_count: long (nullable = true)\n |    |    |-- time_zone: string (nullable = true)\n |    |    |-- url: string (nullable = true)\n |    |    |-- utc_offset: long (nullable = true)\n |    |    |-- verified: boolean (nullable = true)\n |    |-- withheld_in_countries: array (nullable = true)\n |    |    |-- element: string (containsNull = true)\n |-- scopes: struct (nullable = true)\n |    |-- followers: boolean (nullable = true)\n |-- source: string (nullable = true)\n |-- text: string (nullable = true)\n |-- timestamp_ms: string (nullable = true)\n |-- truncated: boolean (nullable = true)\n |-- user: struct (nullable = true)\n |    |-- contributors_enabled: boolean (nullable = true)\n |    |-- created_at: string (nullable = true)\n |    |-- default_profile: boolean (nullable = true)\n |    |-- default_profile_image: boolean (nullable = true)\n |    |-- description: string (nullable = true)\n |    |-- favourites_count: long (nullable = true)\n |    |-- follow_request_sent: string (nullable = true)\n |    |-- followers_count: long (nullable = true)\n |    |-- following: string (nullable = true)\n |    |-- friends_count: long (nullable = true)\n |    |-- geo_enabled: boolean (nullable = true)\n |    |-- id: long (nullable = true)\n |    |-- id_str: string (nullable = true)\n |    |-- is_translator: boolean (nullable = true)\n |    |-- lang: string (nullable = true)\n |    |-- listed_count: long (nullable = true)\n |    |-- location: string (nullable = true)\n |    |-- name: string (nullable = true)\n |    |-- notifications: string (nullable = true)\n |    |-- profile_background_color: string (nullable = true)\n |    |-- profile_background_image_url: string (nullable = true)\n |    |-- profile_background_image_url_https: string (nullable = true)\n |    |-- profile_background_tile: boolean (nullable = true)\n |    |-- profile_banner_url: string (nullable = true)\n |    |-- profile_image_url: string (nullable = true)\n |    |-- profile_image_url_https: string (nullable = true)\n |    |-- profile_link_color: string (nullable = true)\n |    |-- profile_sidebar_border_color: string (nullable = true)\n |    |-- profile_sidebar_fill_color: string (nullable = true)\n |    |-- profile_text_color: string (nullable = true)\n |    |-- profile_use_background_image: boolean (nullable = true)\n |    |-- protected: boolean (nullable = true)\n |    |-- screen_name: string (nullable = true)\n |    |-- statuses_count: long (nullable = true)\n |    |-- time_zone: string (nullable = true)\n |    |-- url: string (nullable = true)\n |    |-- utc_offset: long (nullable = true)\n |    |-- verified: boolean (nullable = true)\n\n", 
                    "name": "stdout"
                }
            ], 
            "execution_count": 4
        }, 
        {
            "cell_type": "markdown", 
            "source": "# The keywords: christmas, santa, turkey, ...", 
            "metadata": {}
        }, 
        {
            "cell_type": "code", 
            "source": "filter = ['santa','claus','merry','christmas','eve',\n          'congrat','holiday','jingle','bell','silent',\n          'night','faith','hope','family','new',\n          'year','spirit','turkey','ham','food']\npd.DataFrame(filter,columns=['word']).head(5)", 
            "metadata": {
                "collapsed": true
            }, 
            "outputs": [], 
            "execution_count": null
        }, 
        {
            "cell_type": "markdown", 
            "source": "# Use Spark SQL to Filter Relevant Tweets:\n\nRelevant tweets: \n+ In english and\n+ Contain at least one of the keywords", 
            "metadata": {}
        }, 
        {
            "cell_type": "code", 
            "source": "# Construct SQL Command\nt0 = time.time()\nsqlString = \"(\"\nfor substr in filter: \n    sqlString = sqlString+\"text LIKE '%\"+substr+\"%' OR \"\n    sqlString = sqlString+\"text LIKE '%\"+substr.upper()+\"%' OR \"\nsqlString=sqlString[:-4]+\")\"\nsqlFilterCommand = \"SELECT lang, text FROM tweets WHERE (lang = 'en') AND \"+sqlString\n\n# Query tweets in english that contain at least one of the keywords\ntweetsDF = sqlContext.sql(sqlFilterCommand).cache()\ntwf = tweetsDF.count()\nprint \"Number of tweets after filtering: \", twf \n# last line add ~9 seconds (from ~0.72 seconds to ~9.42 seconds)\nprint \"Elapsed time (seconds): \", time.time() - t0\n\nprint \"Percetage of Tweets Used: \", float(twf)/twr", 
            "metadata": {
                "collapsed": true
            }, 
            "outputs": [], 
            "execution_count": null
        }, 
        {
            "cell_type": "markdown", 
            "source": "# Parse Tweets and Remove Stop Words ", 
            "metadata": {}
        }, 
        {
            "cell_type": "code", 
            "source": "tweetsRDD = tweetsDF.select('text').rdd\n\ndef parseAndRemoveStopWords(text):\n    t = text[0].replace(\";\",\" \").replace(\":\",\" \").replace('\"',' ').replace('-',' ').replace(\"?\",\" \")\n    t = t.replace(',',' ').replace('.',' ').replace('!','').replace(\"'\",\" \").replace(\"/\",\" \").replace(\"\\\\\",\" \")\n    t = t.lower().split(\" \")\n    return t\n\ntw = tweetsRDD.map(parseAndRemoveStopWords)", 
            "metadata": {
                "collapsed": true
            }, 
            "outputs": [], 
            "execution_count": null
        }, 
        {
            "cell_type": "markdown", 
            "source": "# Train Word2Vec Model\n\n+ Word2vec returns a dataframe with words and vectors\n+ Sometimes you need to run this block twice (strange reason that need to de-bug)", 
            "metadata": {}
        }, 
        {
            "cell_type": "code", 
            "source": "# map to df\ntwDF = tw.map(lambda p: Row(text=p)).toDF()\n\n# default minCount = 5 (we may need to try something larger: 20-100 to reduce cost)\n# default vectorSize = 100 (we may want to keep default)\nt0 = time.time()\nword2Vec = Word2Vec(vectorSize=100, minCount=10, inputCol=\"text\", outputCol=\"result\")\nmodelW2V = word2Vec.fit(twDF)\nwordVectorsDF = modelW2V.getVectors()\nprint \"Elapsed time (seconds) to train Word2Vec: \", time.time() - t0", 
            "metadata": {
                "collapsed": true, 
                "scrolled": true
            }, 
            "outputs": [], 
            "execution_count": null
        }, 
        {
            "cell_type": "code", 
            "source": "vocabSize = wordVectorsDF.count()\nprint \"Vocabulary Size: \", vocabSize", 
            "metadata": {
                "collapsed": true
            }, 
            "outputs": [], 
            "execution_count": null
        }, 
        {
            "cell_type": "markdown", 
            "source": "# Find top N closest words ", 
            "metadata": {}
        }, 
        {
            "cell_type": "code", 
            "source": "word = 'christmas'\ntopN = 5\n###\nsynonymsDF = modelW2V.findSynonyms(word, topN).toPandas()", 
            "metadata": {
                "collapsed": true
            }, 
            "outputs": [], 
            "execution_count": null
        }, 
        {
            "cell_type": "code", 
            "source": "synonymsDF[['word']].head(topN)", 
            "metadata": {
                "collapsed": true
            }, 
            "outputs": [], 
            "execution_count": null
        }, 
        {
            "cell_type": "markdown", 
            "source": "# As Expected, Unrelated terms are Not Accurate", 
            "metadata": {}
        }, 
        {
            "cell_type": "code", 
            "source": "word = 'dog'\ntopN = 5\n###\nsynonymsDF = modelW2V.findSynonyms(word, topN).toPandas()", 
            "metadata": {
                "collapsed": true
            }, 
            "outputs": [], 
            "execution_count": null
        }, 
        {
            "cell_type": "code", 
            "source": "synonymsDF[['word']].head(topN)", 
            "metadata": {
                "collapsed": true
            }, 
            "outputs": [], 
            "execution_count": null
        }, 
        {
            "cell_type": "markdown", 
            "source": "# PCA on Top of Word2Vec using DF (spark.ml)", 
            "metadata": {}
        }, 
        {
            "cell_type": "code", 
            "source": "dfW2V = wordVectorsDF.select('vector').withColumnRenamed('vector','features')\n\nnumComponents = 3\npca = PCA(k = numComponents, inputCol = 'features', outputCol = 'pcaFeatures')\nmodel = pca.fit(dfW2V)\ndfComp = model.transform(dfW2V).select(\"pcaFeatures\")", 
            "metadata": {
                "collapsed": true
            }, 
            "outputs": [], 
            "execution_count": null
        }, 
        {
            "cell_type": "markdown", 
            "source": "# 3D Visualization", 
            "metadata": {}
        }, 
        {
            "cell_type": "code", 
            "source": "def topNwordsToPlot(dfComp,wordVectorsDF,word,nwords):\n\n    compX = np.asarray(dfComp.map(lambda vec: vec[0][0]).collect())\n    compY = np.asarray(dfComp.map(lambda vec: vec[0][1]).collect())\n    compZ = np.asarray(dfComp.map(lambda vec: vec[0][2]).collect())\n\n    words = np.asarray(wordVectorsDF.select('word').toPandas().values.tolist())\n    Feat = np.asarray(wordVectorsDF.select('vector').rdd.map(lambda v: np.asarray(v[0])).collect())\n\n    Nw = words.shape[0]                # total number of words\n    ind_star = np.where(word == words) # find index associated to 'word' \n    wstar = Feat[ind_star,:][0][0]     # vector associated to 'word'\n    nwstar = math.sqrt(np.dot(wstar,wstar)) # norm of vector assoicated with 'word'\n\n    dist = np.zeros(Nw) # initialize vector of distances\n    i = 0\n    for w in Feat: # loop to compute cosine distances between 'word' and the rest of the words \n        den = math.sqrt(np.dot(w,w))*nwstar  # denominator of cosine distance\n        dist[i] = abs( np.dot(wstar,w) )/den   # cosine distance to each word\n        i = i + 1\n\n    indexes = np.argpartition(dist,-(nwords+1))[-(nwords+1):]\n    di = []\n    for j in range(nwords+1):\n        di.append(( words[indexes[j]], dist[indexes[j]], compX[indexes[j]], compY[indexes[j]], compZ[indexes[j]] ) )\n\n    result=[]\n    for elem in sorted(di,key=lambda x: x[1],reverse=True):\n        result.append((elem[0][0], elem[2], elem[3], elem[4]))\n    \n    return pd.DataFrame(result,columns=['word','X','Y','Z'])", 
            "metadata": {
                "collapsed": true
            }, 
            "outputs": [], 
            "execution_count": null
        }, 
        {
            "cell_type": "code", 
            "source": "word = 'christmas'\nnwords = 200\n\n#############\n\nr = topNwordsToPlot(dfComp,wordVectorsDF,word,nwords)\n\n############\nfs=20 #fontsize\nw = r['word']\nfig = plt.figure()\nax = fig.add_subplot(111, projection='3d')\n\nheight = 10\nwidth = 10\nfig.set_size_inches(width, height)\n\nax.scatter(r['X'], r['Y'], r['Z'], color='red', s=100, marker='o', edgecolors='black')\nfor i, txt in enumerate(w):\n    if(i<2):\n        ax.text(r['X'].ix[i],r['Y'].ix[i],r['Z'].ix[i], '%s' % (txt), size=30, zorder=1, color='k')\n        \nax.set_xlabel('1st. Component', fontsize=fs)\nax.set_ylabel('2nd. Component', fontsize=fs)\nax.set_zlabel('3rd. Component', fontsize=fs)\nax.set_title('Visualization of Word2Vec via PCA', fontsize=fs)\nax.grid(True)\nplt.show()", 
            "metadata": {
                "collapsed": true
            }, 
            "outputs": [], 
            "execution_count": null
        }, 
        {
            "cell_type": "markdown", 
            "source": "# K-means on top of Word2Vec using DF (spark.ml)", 
            "metadata": {}
        }, 
        {
            "cell_type": "code", 
            "source": "t0 = time.time()\n\nK = int(math.floor(math.sqrt(float(vocabSize)/2)))\n         # K ~ sqrt(n/2) this is a rule of thumb for choosing K,\n         # where n is the number of words in the model\n         # feel free to choose K with a fancier algorithm\n         \ndfW2V = wordVectorsDF.select('vector').withColumnRenamed('vector','features')\nkmeans = KMeans(k=K, seed=1)\nmodelK = kmeans.fit(dfW2V)\nlabelsDF = modelK.transform(dfW2V).select('prediction').withColumnRenamed('prediction','labels')\n\nprint \"Number of Clusters (K) Used: \", K\nprint \"Elapsed time (seconds) :\", time.time() - t0", 
            "metadata": {
                "collapsed": true
            }, 
            "outputs": [], 
            "execution_count": null
        }
    ], 
    "nbformat": 4, 
    "metadata": {
        "kernelspec": {
            "language": "python", 
            "name": "python2", 
            "display_name": "Python 2 with Spark 1.6"
        }, 
        "language_info": {
            "file_extension": ".py", 
            "codemirror_mode": {
                "version": 2, 
                "name": "ipython"
            }, 
            "pygments_lexer": "ipython2", 
            "version": "2.7.11", 
            "nbconvert_exporter": "python", 
            "mimetype": "text/x-python", 
            "name": "python"
        }
    }, 
    "nbformat_minor": 1
}